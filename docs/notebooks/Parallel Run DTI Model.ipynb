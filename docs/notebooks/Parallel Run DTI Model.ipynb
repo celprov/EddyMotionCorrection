{
 "cells": [
  {
   "cell_type": "markdown",
   "id": "short-cylinder",
   "metadata": {},
   "source": [
    "# Run EddyMotionEstimator with chunk-by-chunk parallelization of tensormodel fit"
   ]
  },
  {
   "cell_type": "markdown",
   "id": "amazing-cinema",
   "metadata": {},
   "source": [
    "## Imports"
   ]
  },
  {
   "cell_type": "code",
   "execution_count": 1,
   "id": "endangered-alias",
   "metadata": {},
   "outputs": [],
   "source": [
    "from pathlib import Path\n",
    "import datalad.api"
   ]
  },
  {
   "cell_type": "markdown",
   "id": "fatal-makeup",
   "metadata": {},
   "source": [
    "## Paths setup"
   ]
  },
  {
   "cell_type": "code",
   "execution_count": 2,
   "id": "fitting-discussion",
   "metadata": {},
   "outputs": [],
   "source": [
    "# Set the installation directory and cmp derivatives directory where DTI and mask are located.\n",
    "bids_dir = Path('/Users/sebastientourbier/Softwares/forks/ds003505')\n",
    "cmp_output_dir = bids_dir / 'derivatives' / 'cmp-v3.0.0-beta-RC1'\n",
    "\n",
    "# Set the path of the files used for testing\n",
    "dwi_file = cmp_output_dir / 'sub-01' / 'dwi' / 'sub-01_desc-preproc_dwi.nii.gz'\n",
    "bvec_file = cmp_output_dir / 'sub-01' / 'dwi' / 'sub-01_desc-cmp_dwi.bvec'\n",
    "bval_file = cmp_output_dir / 'sub-01' / 'dwi' / 'sub-01_desc-cmp_dwi.bval'\n",
    "brain_mask_file = cmp_output_dir / 'sub-01' / 'dwi' / 'sub-01_desc-brain_mask.nii.gz'\n",
    "mean_B0_file = cmp_output_dir / 'sub-01' / 'dwi' / 'sub-01_dwi_desc-mean_b0.nii.gz'\n",
    "rasb_file = cmp_output_dir / 'sub-01' / 'dwi' / 'sub-01_dwi_rasb.tsv'"
   ]
  },
  {
   "cell_type": "markdown",
   "id": "consecutive-product",
   "metadata": {},
   "source": [
    "## Install test DTI dataset from openneuro"
   ]
  },
  {
   "cell_type": "code",
   "execution_count": 3,
   "id": "stylish-breathing",
   "metadata": {},
   "outputs": [],
   "source": [
    "install_bids_dataset = True"
   ]
  },
  {
   "cell_type": "code",
   "execution_count": 4,
   "id": "raised-store",
   "metadata": {},
   "outputs": [],
   "source": [
    "# Run \"datalad install https://github.com/OpenNeuroDatasets/ds003505.git\" if requested\n",
    "if install_bids_dataset:\n",
    "    datalad.api.install(source='https://github.com/OpenNeuroDatasets/ds003505.git',\n",
    "                        path=str(bids_dir),\n",
    "                        on_failure='ignore')"
   ]
  },
  {
   "cell_type": "code",
   "execution_count": 5,
   "id": "loaded-aviation",
   "metadata": {},
   "outputs": [],
   "source": [
    "# Get file content if dataset is been installed\n",
    "if install_bids_dataset:\n",
    "    datalad.api.get(str(dwi_file), dataset=str(bids_dir))\n",
    "    datalad.api.get(str(brain_mask_file), dataset=str(bids_dir))"
   ]
  },
  {
   "cell_type": "markdown",
   "id": "ready-brook",
   "metadata": {},
   "source": [
    "## Define functions and create a reference B0 and the gradient in RAS+B format"
   ]
  },
  {
   "cell_type": "code",
   "execution_count": 6,
   "id": "christian-portugal",
   "metadata": {},
   "outputs": [],
   "source": [
    "def dwiExtractMeanB0(dwi_file, fbval, fbvec, mean_B0_file):\n",
    "    \"\"\"Call mrtrix3 dwiextract and mrmath to extract mean B0 volume.\"\"\"\n",
    "    import subprocess\n",
    "    cmd = ['dwiextract', '-bzero']\n",
    "    cmd.append('-fslgrad')\n",
    "    cmd.append(str(fbvec))\n",
    "    cmd.append(str(fbval))\n",
    "    cmd.append(str(dwi_file))\n",
    "    cmd.append('-')\n",
    "    cmd.append('|')\n",
    "    cmd.append('mrmath')\n",
    "    cmd.append('-axis')\n",
    "    cmd.append('3')\n",
    "    cmd.append('-')\n",
    "    cmd.append('mean')\n",
    "    cmd.append(str(mean_B0_file))\n",
    "    cmd = ' '.join(cmd)\n",
    "    print(f'Command to extract mean B0:\\n {cmd}')\n",
    "    try:\n",
    "        retval = subprocess.call(cmd, shell=True)\n",
    "    except Exception as e:\n",
    "        print(e)\n",
    "        return 1\n",
    "    return retval"
   ]
  },
  {
   "cell_type": "code",
   "execution_count": 7,
   "id": "congressional-question",
   "metadata": {},
   "outputs": [],
   "source": [
    "def fslgrad2rasb(dwi_file, fbval, fbvec, out_rasbn_file):\n",
    "    \"\"\"Save gradient table in RAS+B format taking as input the DWI with FSL `.bval` and `.bvec`.\"\"\"\n",
    "    import numpy as np\n",
    "    from nibabel import load\n",
    "    from dipy.io import read_bvals_bvecs\n",
    "    \n",
    "    # Read / Load\n",
    "    img = load(str(dwi_file))\n",
    "    bvals, bvecs = read_bvals_bvecs(str(fbval), str(fbvec))\n",
    "    \n",
    "    # Apply the affine transform to bvecs\n",
    "    bvecs_tr = np.matmul(img.affine[:3,:3], bvecs.T).T\n",
    "    \n",
    "    # Normalize the bvecs\n",
    "    norm = np.sum(bvecs_tr**2, axis=1)\n",
    "    bvecs_tr_norm = np.zeros_like(bvecs_tr)\n",
    "    for i in range(bvecs_tr.shape[0]):\n",
    "        bvecs_tr_norm[i, :] = bvecs_tr[i, :] / norm[i] \n",
    "    # Handles bzeros\n",
    "    bvecs_tr_norm = np.nan_to_num(bvecs_tr_norm)\n",
    "    \n",
    "    rasbn = np.c_[bvecs_tr_norm, bvals]\n",
    "    print(rasbn)\n",
    "    \n",
    "    # Save Nx4 numpy matrix in TSV text file\n",
    "    np.savetxt(fname=str(out_rasbn_file),\n",
    "               delimiter=\"\\t\",\n",
    "               X=rasbn)\n",
    "    "
   ]
  },
  {
   "cell_type": "code",
   "execution_count": 8,
   "id": "gross-horse",
   "metadata": {},
   "outputs": [
    {
     "name": "stdout",
     "output_type": "stream",
     "text": [
      "Command to extract mean B0:\n",
      " dwiextract -bzero -fslgrad /Users/sebastientourbier/Softwares/forks/ds003505/derivatives/cmp-v3.0.0-beta-RC1/sub-01/dwi/sub-01_desc-cmp_dwi.bvec /Users/sebastientourbier/Softwares/forks/ds003505/derivatives/cmp-v3.0.0-beta-RC1/sub-01/dwi/sub-01_desc-cmp_dwi.bval /Users/sebastientourbier/Softwares/forks/ds003505/derivatives/cmp-v3.0.0-beta-RC1/sub-01/dwi/sub-01_desc-preproc_dwi.nii.gz - | mrmath -axis 3 - mean /Users/sebastientourbier/Softwares/forks/ds003505/derivatives/cmp-v3.0.0-beta-RC1/sub-01/dwi/sub-01_dwi_desc-mean_b0.nii.gz\n"
     ]
    },
    {
     "data": {
      "text/plain": [
       "127"
      ]
     },
     "execution_count": 8,
     "metadata": {},
     "output_type": "execute_result"
    }
   ],
   "source": [
    "# Create the mean BO file\n",
    "dwiExtractMeanB0(dwi_file, bval_file, bvec_file, mean_B0_file)"
   ]
  },
  {
   "cell_type": "code",
   "execution_count": 9,
   "id": "passive-commons",
   "metadata": {},
   "outputs": [
    {
     "name": "stdout",
     "output_type": "stream",
     "text": [
      "[[ 0.00000000e+00  0.00000000e+00  0.00000000e+00  0.00000000e+00]\n",
      " [ 0.00000000e+00  0.00000000e+00  0.00000000e+00  0.00000000e+00]\n",
      " [ 0.00000000e+00  0.00000000e+00  0.00000000e+00  0.00000000e+00]\n",
      " [ 0.00000000e+00  0.00000000e+00  0.00000000e+00  0.00000000e+00]\n",
      " [ 0.00000000e+00  0.00000000e+00  0.00000000e+00  0.00000000e+00]\n",
      " [-9.99328185e-01 -3.56391915e-02  8.53093221e-03  1.00000000e+03]\n",
      " [-2.00439007e-01  9.77513844e-01  6.73710984e-02  1.00000000e+03]\n",
      " [ 9.46917257e-02  6.16426002e-01  7.81318881e-01  1.00000000e+03]\n",
      " [-8.87409470e-01 -4.42835787e-01 -1.30153917e-01  1.00000000e+03]\n",
      " [ 1.98472659e-01 -6.45403330e-01  7.37793657e-01  1.00000000e+03]\n",
      " [ 8.32083569e-01 -3.84389710e-01  3.98966136e-01  1.00000000e+03]\n",
      " [-6.61250828e-01  2.97696231e-01  6.88643194e-01  1.00000000e+03]\n",
      " [-6.08547961e-01  7.68096746e-01  2.01305648e-01  1.00000000e+03]\n",
      " [-9.05025026e-01  2.02983948e-01  3.74357968e-01  1.00000000e+03]\n",
      " [-6.66747839e-01 -7.33181579e-01  1.36946547e-01  1.00000000e+03]\n",
      " [-3.25684511e-01 -9.24011535e-01 -1.98264591e-01  1.00000000e+03]\n",
      " [-5.33273456e-01 -4.60758676e-01 -7.09819195e-01  1.00000000e+03]\n",
      " [ 5.47002773e-01 -4.26494678e-01  7.20723597e-01  1.00000000e+03]\n",
      " [ 6.18594808e-01  6.87587716e-01  3.81108454e-01  1.00000000e+03]\n",
      " [ 3.19890504e-01  6.15924156e-02 -9.45340613e-01  1.00000000e+03]\n",
      " [ 5.54753759e-01 -7.84466762e-01  2.77435485e-01  1.00000000e+03]\n",
      " [-6.14446275e-01 -3.38647225e-02 -7.87735056e-01  1.00000000e+03]\n",
      " [-2.22120471e-01 -1.77258656e-01 -9.59034157e-01  1.00000000e+03]\n",
      " [ 3.13105092e-02 -8.79351908e-01 -4.74784469e-01  1.00000000e+03]\n",
      " [ 4.81739894e-01  6.81810179e-01 -5.49443455e-01  1.00000000e+03]\n",
      " [-4.33343528e-01  6.84007302e-01  5.86137768e-01  1.00000000e+03]\n",
      " [ 6.65693405e-01  2.10729140e-01 -7.15708094e-01  1.00000000e+03]\n",
      " [-8.69004852e-01 -3.50703944e-01  3.48881339e-01  1.00000000e+03]\n",
      " [-2.67535370e-01  3.63998624e-01  8.92127913e-01  1.00000000e+03]\n",
      " [-1.05028461e-01  2.46370885e-01 -9.63255164e-01  1.00000000e+03]\n",
      " [-2.58703259e-01 -9.34712114e-01  2.43095165e-01  1.00000000e+03]\n",
      " [-8.88314064e-01 -9.02280513e-02 -4.50401204e-01  1.00000000e+03]\n",
      " [-2.31933235e-01 -5.07955001e-01  8.29461558e-01  1.00000000e+03]\n",
      " [-1.21603816e-01  8.93980246e-01 -4.31096954e-01  1.00000000e+03]\n",
      " [-8.80847431e-01  4.73748556e-01  1.61333400e-02  1.00000000e+03]]\n"
     ]
    },
    {
     "name": "stderr",
     "output_type": "stream",
     "text": [
      "<ipython-input-7-3960a0cab285>:18: RuntimeWarning: invalid value encountered in true_divide\n",
      "  bvecs_tr_norm[i, :] = bvecs_tr[i, :] / norm[i]\n"
     ]
    }
   ],
   "source": [
    "# Convert the gradient in FSL bval/bvec format to RAS+B format\n",
    "fslgrad2rasb(dwi_file, bval_file, bvec_file, rasb_file)"
   ]
  },
  {
   "cell_type": "code",
   "execution_count": 10,
   "id": "rising-synthetic",
   "metadata": {},
   "outputs": [],
   "source": [
    "from eddymotion import dmri\n",
    "data = dmri.load(\n",
    "    str(dwi_file),\n",
    "    gradients_file=str(rasb_file),\n",
    "    b0_file=str(mean_B0_file),\n",
    "    brainmask_file=str(brain_mask_file)\n",
    "    )"
   ]
  },
  {
   "cell_type": "code",
   "execution_count": 11,
   "id": "realistic-assignment",
   "metadata": {
    "scrolled": false
   },
   "outputs": [
    {
     "name": "stderr",
     "output_type": "stream",
     "text": [
      "  0%|          | 0/30 [00:00<?, ?dwi/s]"
     ]
    },
    {
     "name": "stdout",
     "output_type": "stream",
     "text": [
      "Pass 1/1 | Processing b-index <18> in </var/folders/vy/0bw_1jvj54n8lvcgvdrtqb0c0000gn/T/tmpjl1uey6o>\n"
     ]
    },
    {
     "name": "stderr",
     "output_type": "stream",
     "text": [
      "/Applications/miniconda3/lib/python3.8/site-packages/dipy/reconst/dti.py:1955: RuntimeWarning: divide by zero encountered in log\n",
      "  D[..., 6] = -np.log(b0)\n",
      "  0%|          | 0/30 [05:34<?, ?dwi/s]\n"
     ]
    },
    {
     "ename": "KeyError",
     "evalue": "'AffineTransform_float_3_3'",
     "output_type": "error",
     "traceback": [
      "\u001b[0;31m---------------------------------------------------------------------------\u001b[0m",
      "\u001b[0;31mKeyError\u001b[0m                                  Traceback (most recent call last)",
      "\u001b[0;32m<ipython-input-11-1f9fe90c4e87>\u001b[0m in \u001b[0;36m<module>\u001b[0;34m\u001b[0m\n\u001b[1;32m      1\u001b[0m \u001b[0;32mfrom\u001b[0m \u001b[0meddymotion\u001b[0m\u001b[0;34m.\u001b[0m\u001b[0mestimator\u001b[0m \u001b[0;32mimport\u001b[0m \u001b[0mEddyMotionEstimator\u001b[0m\u001b[0;34m\u001b[0m\u001b[0;34m\u001b[0m\u001b[0m\n\u001b[0;32m----> 2\u001b[0;31m \u001b[0mEddyMotionEstimator\u001b[0m\u001b[0;34m.\u001b[0m\u001b[0mfit\u001b[0m\u001b[0;34m(\u001b[0m\u001b[0mdata\u001b[0m\u001b[0;34m,\u001b[0m \u001b[0mmodel\u001b[0m\u001b[0;34m=\u001b[0m\u001b[0;34m\"tensor\"\u001b[0m\u001b[0;34m,\u001b[0m \u001b[0mn_threads\u001b[0m\u001b[0;34m=\u001b[0m\u001b[0;36m6\u001b[0m\u001b[0;34m)\u001b[0m\u001b[0;34m\u001b[0m\u001b[0;34m\u001b[0m\u001b[0m\n\u001b[0m",
      "\u001b[0;32m/Applications/miniconda3/lib/python3.8/site-packages/eddymotion/estimator.py\u001b[0m in \u001b[0;36mfit\u001b[0;34m(dwdata, n_iter, align_kwargs, model, seed, n_threads, **kwargs)\u001b[0m\n\u001b[1;32m    135\u001b[0m \u001b[0;34m\u001b[0m\u001b[0m\n\u001b[1;32m    136\u001b[0m                         \u001b[0;31m# read output transform\u001b[0m\u001b[0;34m\u001b[0m\u001b[0;34m\u001b[0m\u001b[0;34m\u001b[0m\u001b[0m\n\u001b[0;32m--> 137\u001b[0;31m                         xform = nt.io.itk.ITKLinearTransform.from_filename(\n\u001b[0m\u001b[1;32m    138\u001b[0m                             \u001b[0mresult\u001b[0m\u001b[0;34m.\u001b[0m\u001b[0mforward_transforms\u001b[0m\u001b[0;34m[\u001b[0m\u001b[0;36m0\u001b[0m\u001b[0;34m]\u001b[0m\u001b[0;34m\u001b[0m\u001b[0;34m\u001b[0m\u001b[0m\n\u001b[1;32m    139\u001b[0m                         ).to_ras(reference=fixed, moving=moving)\n",
      "\u001b[0;32m/Applications/miniconda3/lib/python3.8/site-packages/nitransforms/io/itk.py\u001b[0m in \u001b[0;36mfrom_filename\u001b[0;34m(cls, filename)\u001b[0m\n\u001b[1;32m    112\u001b[0m         \u001b[0;32mif\u001b[0m \u001b[0mstr\u001b[0m\u001b[0;34m(\u001b[0m\u001b[0mfilename\u001b[0m\u001b[0;34m)\u001b[0m\u001b[0;34m.\u001b[0m\u001b[0mendswith\u001b[0m\u001b[0;34m(\u001b[0m\u001b[0;34m\".mat\"\u001b[0m\u001b[0;34m)\u001b[0m\u001b[0;34m:\u001b[0m\u001b[0;34m\u001b[0m\u001b[0;34m\u001b[0m\u001b[0m\n\u001b[1;32m    113\u001b[0m             \u001b[0;32mwith\u001b[0m \u001b[0mopen\u001b[0m\u001b[0;34m(\u001b[0m\u001b[0mstr\u001b[0m\u001b[0;34m(\u001b[0m\u001b[0mfilename\u001b[0m\u001b[0;34m)\u001b[0m\u001b[0;34m,\u001b[0m \u001b[0;34m\"rb\"\u001b[0m\u001b[0;34m)\u001b[0m \u001b[0;32mas\u001b[0m \u001b[0mfileobj\u001b[0m\u001b[0;34m:\u001b[0m\u001b[0;34m\u001b[0m\u001b[0;34m\u001b[0m\u001b[0m\n\u001b[0;32m--> 114\u001b[0;31m                 \u001b[0;32mreturn\u001b[0m \u001b[0mcls\u001b[0m\u001b[0;34m.\u001b[0m\u001b[0mfrom_binary\u001b[0m\u001b[0;34m(\u001b[0m\u001b[0mfileobj\u001b[0m\u001b[0;34m)\u001b[0m\u001b[0;34m\u001b[0m\u001b[0;34m\u001b[0m\u001b[0m\n\u001b[0m\u001b[1;32m    115\u001b[0m \u001b[0;34m\u001b[0m\u001b[0m\n\u001b[1;32m    116\u001b[0m         \u001b[0;32mwith\u001b[0m \u001b[0mopen\u001b[0m\u001b[0;34m(\u001b[0m\u001b[0mstr\u001b[0m\u001b[0;34m(\u001b[0m\u001b[0mfilename\u001b[0m\u001b[0;34m)\u001b[0m\u001b[0;34m)\u001b[0m \u001b[0;32mas\u001b[0m \u001b[0mfileobj\u001b[0m\u001b[0;34m:\u001b[0m\u001b[0;34m\u001b[0m\u001b[0;34m\u001b[0m\u001b[0m\n",
      "\u001b[0;32m/Applications/miniconda3/lib/python3.8/site-packages/nitransforms/io/itk.py\u001b[0m in \u001b[0;36mfrom_binary\u001b[0;34m(cls, byte_stream, index)\u001b[0m\n\u001b[1;32m    105\u001b[0m         \u001b[0;34m\"\"\"Read the struct from a matlab binary file.\"\"\"\u001b[0m\u001b[0;34m\u001b[0m\u001b[0;34m\u001b[0m\u001b[0m\n\u001b[1;32m    106\u001b[0m         \u001b[0mmdict\u001b[0m \u001b[0;34m=\u001b[0m \u001b[0m_read_mat\u001b[0m\u001b[0;34m(\u001b[0m\u001b[0mbyte_stream\u001b[0m\u001b[0;34m)\u001b[0m\u001b[0;34m\u001b[0m\u001b[0;34m\u001b[0m\u001b[0m\n\u001b[0;32m--> 107\u001b[0;31m         \u001b[0;32mreturn\u001b[0m \u001b[0mcls\u001b[0m\u001b[0;34m.\u001b[0m\u001b[0mfrom_matlab_dict\u001b[0m\u001b[0;34m(\u001b[0m\u001b[0mmdict\u001b[0m\u001b[0;34m,\u001b[0m \u001b[0mindex\u001b[0m\u001b[0;34m=\u001b[0m\u001b[0mindex\u001b[0m\u001b[0;34m)\u001b[0m\u001b[0;34m\u001b[0m\u001b[0;34m\u001b[0m\u001b[0m\n\u001b[0m\u001b[1;32m    108\u001b[0m \u001b[0;34m\u001b[0m\u001b[0m\n\u001b[1;32m    109\u001b[0m     \u001b[0;34m@\u001b[0m\u001b[0mclassmethod\u001b[0m\u001b[0;34m\u001b[0m\u001b[0;34m\u001b[0m\u001b[0m\n",
      "\u001b[0;32m/Applications/miniconda3/lib/python3.8/site-packages/nitransforms/io/itk.py\u001b[0m in \u001b[0;36mfrom_matlab_dict\u001b[0;34m(cls, mdict, index)\u001b[0m\n\u001b[1;32m    132\u001b[0m         \u001b[0msa\u001b[0m\u001b[0;34m[\u001b[0m\u001b[0;34m\"index\"\u001b[0m\u001b[0;34m]\u001b[0m \u001b[0;34m=\u001b[0m \u001b[0mindex\u001b[0m\u001b[0;34m\u001b[0m\u001b[0;34m\u001b[0m\u001b[0m\n\u001b[1;32m    133\u001b[0m         \u001b[0mparameters\u001b[0m \u001b[0;34m=\u001b[0m \u001b[0mnp\u001b[0m\u001b[0;34m.\u001b[0m\u001b[0meye\u001b[0m\u001b[0;34m(\u001b[0m\u001b[0;36m4\u001b[0m\u001b[0;34m,\u001b[0m \u001b[0mdtype\u001b[0m\u001b[0;34m=\u001b[0m\u001b[0;34m\"f4\"\u001b[0m\u001b[0;34m)\u001b[0m\u001b[0;34m\u001b[0m\u001b[0;34m\u001b[0m\u001b[0m\n\u001b[0;32m--> 134\u001b[0;31m         \u001b[0mparameters\u001b[0m\u001b[0;34m[\u001b[0m\u001b[0;34m:\u001b[0m\u001b[0;36m3\u001b[0m\u001b[0;34m,\u001b[0m \u001b[0;34m:\u001b[0m\u001b[0;36m3\u001b[0m\u001b[0;34m]\u001b[0m \u001b[0;34m=\u001b[0m \u001b[0mmdict\u001b[0m\u001b[0;34m[\u001b[0m\u001b[0;34m\"AffineTransform_float_3_3\"\u001b[0m\u001b[0;34m]\u001b[0m\u001b[0;34m[\u001b[0m\u001b[0;34m:\u001b[0m\u001b[0;34m-\u001b[0m\u001b[0;36m3\u001b[0m\u001b[0;34m]\u001b[0m\u001b[0;34m.\u001b[0m\u001b[0mreshape\u001b[0m\u001b[0;34m(\u001b[0m\u001b[0;34m(\u001b[0m\u001b[0;36m3\u001b[0m\u001b[0;34m,\u001b[0m \u001b[0;36m3\u001b[0m\u001b[0;34m)\u001b[0m\u001b[0;34m)\u001b[0m\u001b[0;34m\u001b[0m\u001b[0;34m\u001b[0m\u001b[0m\n\u001b[0m\u001b[1;32m    135\u001b[0m         \u001b[0mparameters\u001b[0m\u001b[0;34m[\u001b[0m\u001b[0;34m:\u001b[0m\u001b[0;36m3\u001b[0m\u001b[0;34m,\u001b[0m \u001b[0;36m3\u001b[0m\u001b[0;34m]\u001b[0m \u001b[0;34m=\u001b[0m \u001b[0mmdict\u001b[0m\u001b[0;34m[\u001b[0m\u001b[0;34m\"AffineTransform_float_3_3\"\u001b[0m\u001b[0;34m]\u001b[0m\u001b[0;34m[\u001b[0m\u001b[0;34m-\u001b[0m\u001b[0;36m3\u001b[0m\u001b[0;34m:\u001b[0m\u001b[0;34m]\u001b[0m\u001b[0;34m.\u001b[0m\u001b[0mflatten\u001b[0m\u001b[0;34m(\u001b[0m\u001b[0;34m)\u001b[0m\u001b[0;34m\u001b[0m\u001b[0;34m\u001b[0m\u001b[0m\n\u001b[1;32m    136\u001b[0m         \u001b[0msa\u001b[0m\u001b[0;34m[\u001b[0m\u001b[0;34m\"parameters\"\u001b[0m\u001b[0;34m]\u001b[0m \u001b[0;34m=\u001b[0m \u001b[0mparameters\u001b[0m\u001b[0;34m\u001b[0m\u001b[0;34m\u001b[0m\u001b[0m\n",
      "\u001b[0;31mKeyError\u001b[0m: 'AffineTransform_float_3_3'"
     ]
    }
   ],
   "source": [
    "from eddymotion.estimator import EddyMotionEstimator\n",
    "EddyMotionEstimator.fit(data, model=\"tensor\", n_threads=6)"
   ]
  },
  {
   "cell_type": "code",
   "execution_count": null,
   "id": "stuck-recognition",
   "metadata": {},
   "outputs": [],
   "source": []
  }
 ],
 "metadata": {
  "kernelspec": {
   "display_name": "Python 3",
   "language": "python",
   "name": "python3"
  },
  "language_info": {
   "codemirror_mode": {
    "name": "ipython",
    "version": 3
   },
   "file_extension": ".py",
   "mimetype": "text/x-python",
   "name": "python",
   "nbconvert_exporter": "python",
   "pygments_lexer": "ipython3",
   "version": "3.8.3"
  }
 },
 "nbformat": 4,
 "nbformat_minor": 5
}
